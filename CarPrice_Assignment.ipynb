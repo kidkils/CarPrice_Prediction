{
  "nbformat": 4,
  "nbformat_minor": 0,
  "metadata": {
    "colab": {
      "name": "CarPrice_Assignment.ipynb",
      "provenance": [],
      "authorship_tag": "ABX9TyOCme6Y2leK38PHLkEjgMfr",
      "include_colab_link": true
    },
    "kernelspec": {
      "name": "python3",
      "display_name": "Python 3"
    }
  },
  "cells": [
    {
      "cell_type": "markdown",
      "metadata": {
        "id": "view-in-github",
        "colab_type": "text"
      },
      "source": [
        "<a href=\"https://colab.research.google.com/github/kidkils/CarPrice_Prediction/blob/main/CarPrice_Assignment.ipynb\" target=\"_parent\"><img src=\"https://colab.research.google.com/assets/colab-badge.svg\" alt=\"Open In Colab\"/></a>"
      ]
    },
    {
      "cell_type": "code",
      "metadata": {
        "id": "EE6PiibtNt2n"
      },
      "source": [
        "import matplotlib.pyplot as plt\r\n",
        "import pandas as pd\r\n",
        "import pylab as pl\r\n",
        "import numpy as np\r\n",
        "%matplotlib inline"
      ],
      "execution_count": 86,
      "outputs": []
    },
    {
      "cell_type": "code",
      "metadata": {
        "id": "WzmfiI6JGz29"
      },
      "source": [
        "url = 'https://raw.githubusercontent.com/kidkils/CarPrice_Prediction/main/CarPrice_Assignment.csv'\r\n",
        "df = pd.read_csv(url)"
      ],
      "execution_count": 87,
      "outputs": []
    },
    {
      "cell_type": "code",
      "metadata": {
        "colab": {
          "base_uri": "https://localhost:8080/"
        },
        "id": "IACLgFGFLRIT",
        "outputId": "09b4405c-6169-46a9-b322-8fdd77ccc6e3"
      },
      "source": [
        "df.shape"
      ],
      "execution_count": 88,
      "outputs": [
        {
          "output_type": "execute_result",
          "data": {
            "text/plain": [
              "(205, 26)"
            ]
          },
          "metadata": {
            "tags": []
          },
          "execution_count": 88
        }
      ]
    },
    {
      "cell_type": "code",
      "metadata": {
        "colab": {
          "base_uri": "https://localhost:8080/"
        },
        "id": "4k40sRANLZ8t",
        "outputId": "f9d55cc7-89f7-4c8e-e030-f0371a4e32d1"
      },
      "source": [
        "df.columns"
      ],
      "execution_count": 89,
      "outputs": [
        {
          "output_type": "execute_result",
          "data": {
            "text/plain": [
              "Index(['car_ID', 'symboling', 'CarName', 'fueltype', 'aspiration',\n",
              "       'doornumber', 'carbody', 'drivewheel', 'enginelocation', 'wheelbase',\n",
              "       'carlength', 'carwidth', 'carheight', 'curbweight', 'enginetype',\n",
              "       'cylindernumber', 'enginesize', 'fuelsystem', 'boreratio', 'stroke',\n",
              "       'compressionratio', 'horsepower', 'peakrpm', 'citympg', 'highwaympg',\n",
              "       'price'],\n",
              "      dtype='object')"
            ]
          },
          "metadata": {
            "tags": []
          },
          "execution_count": 89
        }
      ]
    },
    {
      "cell_type": "markdown",
      "metadata": {
        "id": "PNRJ_0njLnSd"
      },
      "source": [
        "Cheking the null values"
      ]
    },
    {
      "cell_type": "code",
      "metadata": {
        "colab": {
          "base_uri": "https://localhost:8080/"
        },
        "id": "Un_-1segLsjg",
        "outputId": "c17d546a-ec32-45d7-f7e4-79027b849f11"
      },
      "source": [
        "df.columns.isnull()"
      ],
      "execution_count": 90,
      "outputs": [
        {
          "output_type": "execute_result",
          "data": {
            "text/plain": [
              "array([False, False, False, False, False, False, False, False, False,\n",
              "       False, False, False, False, False, False, False, False, False,\n",
              "       False, False, False, False, False, False, False, False])"
            ]
          },
          "metadata": {
            "tags": []
          },
          "execution_count": 90
        }
      ]
    },
    {
      "cell_type": "code",
      "metadata": {
        "colab": {
          "base_uri": "https://localhost:8080/",
          "height": 359
        },
        "id": "Sx9gvOwLL5U9",
        "outputId": "f4e6c438-04a3-4edc-f14e-4283b477b780"
      },
      "source": [
        "cdf = df[[\"enginesize\",\"horsepower\",\"price\"]]\r\n",
        "cdf.head(10)"
      ],
      "execution_count": 91,
      "outputs": [
        {
          "output_type": "execute_result",
          "data": {
            "text/html": [
              "<div>\n",
              "<style scoped>\n",
              "    .dataframe tbody tr th:only-of-type {\n",
              "        vertical-align: middle;\n",
              "    }\n",
              "\n",
              "    .dataframe tbody tr th {\n",
              "        vertical-align: top;\n",
              "    }\n",
              "\n",
              "    .dataframe thead th {\n",
              "        text-align: right;\n",
              "    }\n",
              "</style>\n",
              "<table border=\"1\" class=\"dataframe\">\n",
              "  <thead>\n",
              "    <tr style=\"text-align: right;\">\n",
              "      <th></th>\n",
              "      <th>enginesize</th>\n",
              "      <th>horsepower</th>\n",
              "      <th>price</th>\n",
              "    </tr>\n",
              "  </thead>\n",
              "  <tbody>\n",
              "    <tr>\n",
              "      <th>0</th>\n",
              "      <td>130</td>\n",
              "      <td>111</td>\n",
              "      <td>13495.000</td>\n",
              "    </tr>\n",
              "    <tr>\n",
              "      <th>1</th>\n",
              "      <td>130</td>\n",
              "      <td>111</td>\n",
              "      <td>16500.000</td>\n",
              "    </tr>\n",
              "    <tr>\n",
              "      <th>2</th>\n",
              "      <td>152</td>\n",
              "      <td>154</td>\n",
              "      <td>16500.000</td>\n",
              "    </tr>\n",
              "    <tr>\n",
              "      <th>3</th>\n",
              "      <td>109</td>\n",
              "      <td>102</td>\n",
              "      <td>13950.000</td>\n",
              "    </tr>\n",
              "    <tr>\n",
              "      <th>4</th>\n",
              "      <td>136</td>\n",
              "      <td>115</td>\n",
              "      <td>17450.000</td>\n",
              "    </tr>\n",
              "    <tr>\n",
              "      <th>5</th>\n",
              "      <td>136</td>\n",
              "      <td>110</td>\n",
              "      <td>15250.000</td>\n",
              "    </tr>\n",
              "    <tr>\n",
              "      <th>6</th>\n",
              "      <td>136</td>\n",
              "      <td>110</td>\n",
              "      <td>17710.000</td>\n",
              "    </tr>\n",
              "    <tr>\n",
              "      <th>7</th>\n",
              "      <td>136</td>\n",
              "      <td>110</td>\n",
              "      <td>18920.000</td>\n",
              "    </tr>\n",
              "    <tr>\n",
              "      <th>8</th>\n",
              "      <td>131</td>\n",
              "      <td>140</td>\n",
              "      <td>23875.000</td>\n",
              "    </tr>\n",
              "    <tr>\n",
              "      <th>9</th>\n",
              "      <td>131</td>\n",
              "      <td>160</td>\n",
              "      <td>17859.167</td>\n",
              "    </tr>\n",
              "  </tbody>\n",
              "</table>\n",
              "</div>"
            ],
            "text/plain": [
              "   enginesize  horsepower      price\n",
              "0         130         111  13495.000\n",
              "1         130         111  16500.000\n",
              "2         152         154  16500.000\n",
              "3         109         102  13950.000\n",
              "4         136         115  17450.000\n",
              "5         136         110  15250.000\n",
              "6         136         110  17710.000\n",
              "7         136         110  18920.000\n",
              "8         131         140  23875.000\n",
              "9         131         160  17859.167"
            ]
          },
          "metadata": {
            "tags": []
          },
          "execution_count": 91
        }
      ]
    },
    {
      "cell_type": "code",
      "metadata": {
        "colab": {
          "base_uri": "https://localhost:8080/",
          "height": 279
        },
        "id": "vGDph4x9MAku",
        "outputId": "c8112e1f-8d95-4c84-d347-c6af43f660f2"
      },
      "source": [
        "plt.scatter(cdf[\"enginesize\"], cdf[\"price\"],  color='blue')\r\n",
        "plt.xlabel(\"Engine size\")\r\n",
        "plt.ylabel(\"Price\")\r\n",
        "plt.show()"
      ],
      "execution_count": 92,
      "outputs": [
        {
          "output_type": "display_data",
          "data": {
            "image/png": "[encoded data removed]",
            "text/plain": [
              "<Figure size 432x288 with 1 Axes>"
            ]
          },
          "metadata": {
            "tags": [],
            "needs_background": "light"
          }
        }
      ]
    },
    {
      "cell_type": "code",
      "metadata": {
        "colab": {
          "base_uri": "https://localhost:8080/",
          "height": 279
        },
        "id": "lYLqaIAmMKu-",
        "outputId": "f30ce795-0d6c-4ce5-8be2-d25299592d8c"
      },
      "source": [
        "plt.scatter(cdf[\"horsepower\"], cdf[\"price\"],  color='blue')\r\n",
        "plt.xlabel(\"Horsepower\")\r\n",
        "plt.ylabel(\"Price\")\r\n",
        "plt.show() "
      ],
      "execution_count": 93,
      "outputs": [
        {
          "output_type": "display_data",
          "data": {
            "image/png": "[encoded data removed]",
            "text/plain": [
              "<Figure size 432x288 with 1 Axes>"
            ]
          },
          "metadata": {
            "tags": [],
            "needs_background": "light"
          }
        }
      ]
    },
    {
      "cell_type": "markdown",
      "metadata": {
        "id": "mm7z2uzaMUa8"
      },
      "source": [
        "Creating train and test data"
      ]
    },
    {
      "cell_type": "code",
      "metadata": {
        "id": "HrzHVoiQMWBH"
      },
      "source": [
        "msk = np.random.rand(len(df)) < 0.8\r\n",
        "train = cdf[msk]\r\n",
        "test = cdf[~msk]"
      ],
      "execution_count": 94,
      "outputs": []
    },
    {
      "cell_type": "markdown",
      "metadata": {
        "id": "yA1-wfKFMjSE"
      },
      "source": [
        "Building Linear Model"
      ]
    },
    {
      "cell_type": "code",
      "metadata": {
        "colab": {
          "base_uri": "https://localhost:8080/"
        },
        "id": "sePhI41AMkmj",
        "outputId": "da821aa7-8726-4df2-a3c4-acdf1d14eced"
      },
      "source": [
        "from sklearn import linear_model\r\n",
        "regr = linear_model.LinearRegression()\r\n",
        "\r\n",
        "x = np.asanyarray(train[['enginesize','horsepower']])\r\n",
        "y = np.asanyarray(train[['price']])\r\n",
        "regr.fit (x,y)\r\n",
        "\r\n",
        "# The coefficients\r\n",
        "print ('Coefficients: ', regr.coef_)\r\n",
        "print ('Intercept: ',regr.intercept_)"
      ],
      "execution_count": 95,
      "outputs": [
        {
          "output_type": "stream",
          "text": [
            "Coefficients:  [[118.4192903   50.45229965]]\n",
            "Intercept:  [-7029.03907719]\n"
          ],
          "name": "stdout"
        }
      ]
    },
    {
      "cell_type": "code",
      "metadata": {
        "colab": {
          "base_uri": "https://localhost:8080/",
          "height": 282
        },
        "id": "XszhRJ2fMvxf",
        "outputId": "121f12b5-d805-4d37-f0be-9f5c405a5026"
      },
      "source": [
        "plt.scatter(train[\"enginesize\"], train[\"price\"],  color='blue')\r\n",
        "plt.plot(x,regr.coef_[0][0]*x + regr.coef_[0][1]*x + regr.intercept_[0],'-r')\r\n",
        "plt.xlabel(\"Engine size\")\r\n",
        "plt.ylabel(\"Emission\")\r\n",
        "plt.show()"
      ],
      "execution_count": 96,
      "outputs": [
        {
          "output_type": "display_data",
          "data": {
            "image/png": "[encoded data removed]",
            "text/plain": [
              "<Figure size 432x288 with 1 Axes>"
            ]
          },
          "metadata": {
            "tags": [],
            "needs_background": "light"
          }
        }
      ]
    },
    {
      "cell_type": "markdown",
      "metadata": {
        "id": "OFKWdYjFM21j"
      },
      "source": [
        "Prediction Making"
      ]
    },
    {
      "cell_type": "code",
      "metadata": {
        "colab": {
          "base_uri": "https://localhost:8080/"
        },
        "id": "cDtz3FPwM4Y8",
        "outputId": "b276aa89-88b4-46c1-dfda-feb347ef0991"
      },
      "source": [
        "y_hat= regr.predict(test[['enginesize','horsepower']])\r\n",
        "x = np.asanyarray(test[['enginesize','horsepower']])\r\n",
        "y = np.asanyarray(test[['price']])\r\n",
        "print(\"Residual sum of squares: %.2f\"\r\n",
        "      % np.mean((y_hat - y) ** 2))\r\n",
        "\r\n",
        "# Explained variance score: 1 is perfect prediction\r\n",
        "print('Variance score: %.2f' % regr.score(x, y))"
      ],
      "execution_count": 97,
      "outputs": [
        {
          "output_type": "stream",
          "text": [
            "Residual sum of squares: 21012620.73\n",
            "Variance score: 0.79\n"
          ],
          "name": "stdout"
        }
      ]
    },
    {
      "cell_type": "markdown",
      "metadata": {
        "id": "prYqM2ymNTY7"
      },
      "source": [
        "Making prediction of a car out of the dataset"
      ]
    },
    {
      "cell_type": "code",
      "metadata": {
        "colab": {
          "base_uri": "https://localhost:8080/"
        },
        "id": "oYHRrtpaNU7z",
        "outputId": "6aa1ed7f-dc96-4a83-e798-65ecbd65506a"
      },
      "source": [
        "test_car_features = [200,200]\r\n",
        "test_car_price = (regr.coef_[0][0]*test_car_features[0] + regr.coef_[0][1]*test_car_features[1] + regr.intercept_[0])\r\n",
        "print(\"Aracın fiyat tahmini: \",int(test_car_price),\"$\")"
      ],
      "execution_count": 98,
      "outputs": [
        {
          "output_type": "stream",
          "text": [
            "Aracın fiyat tahmini:  26745 $\n"
          ],
          "name": "stdout"
        }
      ]
    }
  ]
}