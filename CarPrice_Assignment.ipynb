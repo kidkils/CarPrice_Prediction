{
  "nbformat": 4,
  "nbformat_minor": 0,
  "metadata": {
    "colab": {
      "name": "CarPrice_Assignment.ipynb",
      "provenance": [],
      "authorship_tag": "ABX9TyOXjY8U0t+icxCf6AFkvhGj",
      "include_colab_link": true
    },
    "kernelspec": {
      "name": "python3",
      "display_name": "Python 3"
    }
  },
  "cells": [
    {
      "cell_type": "markdown",
      "metadata": {
        "id": "view-in-github",
        "colab_type": "text"
      },
      "source": [
        "<a href=\"https://colab.research.google.com/github/kidkils/CarPrice_Prediction/blob/main/CarPrice_Assignment.ipynb\" target=\"_parent\"><img src=\"https://colab.research.google.com/assets/colab-badge.svg\" alt=\"Open In Colab\"/></a>"
      ]
    },
    {
      "cell_type": "code",
      "metadata": {
        "id": "EE6PiibtNt2n"
      },
      "source": [
        "import matplotlib.pyplot as plt\r\n",
        "import pandas as pd\r\n",
        "import pylab as pl\r\n",
        "import numpy as np\r\n",
        "%matplotlib inline"
      ],
      "execution_count": 112,
      "outputs": []
    },
    {
      "cell_type": "code",
      "metadata": {
        "id": "WzmfiI6JGz29"
      },
      "source": [
        "url = 'https://raw.githubusercontent.com/kidkils/CarPrice_Prediction/main/CarPrice_Assignment.csv'\r\n",
        "df = pd.read_csv(url)"
      ],
      "execution_count": 113,
      "outputs": []
    },
    {
      "cell_type": "code",
      "metadata": {
        "colab": {
          "base_uri": "https://localhost:8080/"
        },
        "id": "IACLgFGFLRIT",
        "outputId": "6ead16d0-1fed-4d37-f8b1-31b8e95f9f52"
      },
      "source": [
        "df.shape"
      ],
      "execution_count": 114,
      "outputs": [
        {
          "output_type": "execute_result",
          "data": {
            "text/plain": [
              "(205, 26)"
            ]
          },
          "metadata": {
            "tags": []
          },
          "execution_count": 114
        }
      ]
    },
    {
      "cell_type": "code",
      "metadata": {
        "colab": {
          "base_uri": "https://localhost:8080/"
        },
        "id": "4k40sRANLZ8t",
        "outputId": "b9eeb18c-283c-4fe8-cd9b-541827e46558"
      },
      "source": [
        "df.columns"
      ],
      "execution_count": 115,
      "outputs": [
        {
          "output_type": "execute_result",
          "data": {
            "text/plain": [
              "Index(['car_ID', 'symboling', 'CarName', 'fueltype', 'aspiration',\n",
              "       'doornumber', 'carbody', 'drivewheel', 'enginelocation', 'wheelbase',\n",
              "       'carlength', 'carwidth', 'carheight', 'curbweight', 'enginetype',\n",
              "       'cylindernumber', 'enginesize', 'fuelsystem', 'boreratio', 'stroke',\n",
              "       'compressionratio', 'horsepower', 'peakrpm', 'citympg', 'highwaympg',\n",
              "       'price'],\n",
              "      dtype='object')"
            ]
          },
          "metadata": {
            "tags": []
          },
          "execution_count": 115
        }
      ]
    },
    {
      "cell_type": "markdown",
      "metadata": {
        "id": "PNRJ_0njLnSd"
      },
      "source": [
        "Cheking the null values"
      ]
    },
    {
      "cell_type": "code",
      "metadata": {
        "colab": {
          "base_uri": "https://localhost:8080/"
        },
        "id": "Un_-1segLsjg",
        "outputId": "9e246168-d33d-4b95-c7e7-4f2adf6dea39"
      },
      "source": [
        "df.columns.isnull()"
      ],
      "execution_count": 116,
      "outputs": [
        {
          "output_type": "execute_result",
          "data": {
            "text/plain": [
              "array([False, False, False, False, False, False, False, False, False,\n",
              "       False, False, False, False, False, False, False, False, False,\n",
              "       False, False, False, False, False, False, False, False])"
            ]
          },
          "metadata": {
            "tags": []
          },
          "execution_count": 116
        }
      ]
    },
    {
      "cell_type": "code",
      "metadata": {
        "colab": {
          "base_uri": "https://localhost:8080/",
          "height": 359
        },
        "id": "Sx9gvOwLL5U9",
        "outputId": "729e8932-6091-441c-d14c-a6144cfb36b4"
      },
      "source": [
        "cdf = df[[\"enginesize\",\"horsepower\",\"price\"]]\r\n",
        "cdf.head(10)"
      ],
      "execution_count": 117,
      "outputs": [
        {
          "output_type": "execute_result",
          "data": {
            "text/html": [
              "<div>\n",
              "<style scoped>\n",
              "    .dataframe tbody tr th:only-of-type {\n",
              "        vertical-align: middle;\n",
              "    }\n",
              "\n",
              "    .dataframe tbody tr th {\n",
              "        vertical-align: top;\n",
              "    }\n",
              "\n",
              "    .dataframe thead th {\n",
              "        text-align: right;\n",
              "    }\n",
              "</style>\n",
              "<table border=\"1\" class=\"dataframe\">\n",
              "  <thead>\n",
              "    <tr style=\"text-align: right;\">\n",
              "      <th></th>\n",
              "      <th>enginesize</th>\n",
              "      <th>horsepower</th>\n",
              "      <th>price</th>\n",
              "    </tr>\n",
              "  </thead>\n",
              "  <tbody>\n",
              "    <tr>\n",
              "      <th>0</th>\n",
              "      <td>130</td>\n",
              "      <td>111</td>\n",
              "      <td>13495.000</td>\n",
              "    </tr>\n",
              "    <tr>\n",
              "      <th>1</th>\n",
              "      <td>130</td>\n",
              "      <td>111</td>\n",
              "      <td>16500.000</td>\n",
              "    </tr>\n",
              "    <tr>\n",
              "      <th>2</th>\n",
              "      <td>152</td>\n",
              "      <td>154</td>\n",
              "      <td>16500.000</td>\n",
              "    </tr>\n",
              "    <tr>\n",
              "      <th>3</th>\n",
              "      <td>109</td>\n",
              "      <td>102</td>\n",
              "      <td>13950.000</td>\n",
              "    </tr>\n",
              "    <tr>\n",
              "      <th>4</th>\n",
              "      <td>136</td>\n",
              "      <td>115</td>\n",
              "      <td>17450.000</td>\n",
              "    </tr>\n",
              "    <tr>\n",
              "      <th>5</th>\n",
              "      <td>136</td>\n",
              "      <td>110</td>\n",
              "      <td>15250.000</td>\n",
              "    </tr>\n",
              "    <tr>\n",
              "      <th>6</th>\n",
              "      <td>136</td>\n",
              "      <td>110</td>\n",
              "      <td>17710.000</td>\n",
              "    </tr>\n",
              "    <tr>\n",
              "      <th>7</th>\n",
              "      <td>136</td>\n",
              "      <td>110</td>\n",
              "      <td>18920.000</td>\n",
              "    </tr>\n",
              "    <tr>\n",
              "      <th>8</th>\n",
              "      <td>131</td>\n",
              "      <td>140</td>\n",
              "      <td>23875.000</td>\n",
              "    </tr>\n",
              "    <tr>\n",
              "      <th>9</th>\n",
              "      <td>131</td>\n",
              "      <td>160</td>\n",
              "      <td>17859.167</td>\n",
              "    </tr>\n",
              "  </tbody>\n",
              "</table>\n",
              "</div>"
            ],
            "text/plain": [
              "   enginesize  horsepower      price\n",
              "0         130         111  13495.000\n",
              "1         130         111  16500.000\n",
              "2         152         154  16500.000\n",
              "3         109         102  13950.000\n",
              "4         136         115  17450.000\n",
              "5         136         110  15250.000\n",
              "6         136         110  17710.000\n",
              "7         136         110  18920.000\n",
              "8         131         140  23875.000\n",
              "9         131         160  17859.167"
            ]
          },
          "metadata": {
            "tags": []
          },
          "execution_count": 117
        }
      ]
    },
    {
      "cell_type": "code",
      "metadata": {
        "colab": {
          "base_uri": "https://localhost:8080/",
          "height": 279
        },
        "id": "vGDph4x9MAku",
        "outputId": "ccba4e2d-67ff-493f-a45f-3ffa76b73a41"
      },
      "source": [
        "plt.scatter(cdf[\"enginesize\"], cdf[\"price\"],  color='blue')\r\n",
        "plt.xlabel(\"Engine size\")\r\n",
        "plt.ylabel(\"Price\")\r\n",
        "plt.show()"
      ],
      "execution_count": 118,
      "outputs": [
        {
          "output_type": "display_data",
          "data": {
            "image/png": "[encoded data removed]",
            "text/plain": [
              "<Figure size 432x288 with 1 Axes>"
            ]
          },
          "metadata": {
            "tags": [],
            "needs_background": "light"
          }
        }
      ]
    },
    {
      "cell_type": "code",
      "metadata": {
        "colab": {
          "base_uri": "https://localhost:8080/",
          "height": 279
        },
        "id": "lYLqaIAmMKu-",
        "outputId": "e5d988dd-18ae-4b07-fbb8-a547a088fe80"
      },
      "source": [
        "plt.scatter(cdf[\"horsepower\"], cdf[\"price\"],  color='blue')\r\n",
        "plt.xlabel(\"Horsepower\")\r\n",
        "plt.ylabel(\"Price\")\r\n",
        "plt.show() "
      ],
      "execution_count": 119,
      "outputs": [
        {
          "output_type": "display_data",
          "data": {
            "image/png": "[encoded data removed]",
            "text/plain": [
              "<Figure size 432x288 with 1 Axes>"
            ]
          },
          "metadata": {
            "tags": [],
            "needs_background": "light"
          }
        }
      ]
    },
    {
      "cell_type": "markdown",
      "metadata": {
        "id": "mm7z2uzaMUa8"
      },
      "source": [
        "Creating train and test data"
      ]
    },
    {
      "cell_type": "code",
      "metadata": {
        "id": "HrzHVoiQMWBH"
      },
      "source": [
        "msk = np.random.rand(len(df)) < 0.8\r\n",
        "train = cdf[msk]\r\n",
        "test = cdf[~msk]"
      ],
      "execution_count": 120,
      "outputs": []
    },
    {
      "cell_type": "markdown",
      "metadata": {
        "id": "yA1-wfKFMjSE"
      },
      "source": [
        "membangun model linier"
      ]
    },
    {
      "cell_type": "code",
      "metadata": {
        "colab": {
          "base_uri": "https://localhost:8080/"
        },
        "id": "sePhI41AMkmj",
        "outputId": "306fa6ac-3097-45a3-bff6-4fcc68a55558"
      },
      "source": [
        "from sklearn import linear_model\r\n",
        "regr = linear_model.LinearRegression()\r\n",
        "\r\n",
        "x = np.asanyarray(train[['enginesize','horsepower']])\r\n",
        "y = np.asanyarray(train[['price']])\r\n",
        "regr.fit (x,y)\r\n",
        "\r\n",
        "# The coefficients\r\n",
        "print ('Coefficients: ', regr.coef_)\r\n",
        "print ('Intercept: ',regr.intercept_)"
      ],
      "execution_count": 121,
      "outputs": [
        {
          "output_type": "stream",
          "text": [
            "Coefficients:  [[126.28053678  50.67699607]]\n",
            "Intercept:  [-8014.75612343]\n"
          ],
          "name": "stdout"
        }
      ]
    },
    {
      "cell_type": "code",
      "metadata": {
        "colab": {
          "base_uri": "https://localhost:8080/",
          "height": 279
        },
        "id": "XszhRJ2fMvxf",
        "outputId": "68544c5b-e1e4-41cb-c703-9f749bdab921"
      },
      "source": [
        "plt.scatter(train[\"enginesize\"], train[\"price\"],  color='blue')\r\n",
        "plt.plot(x,regr.coef_[0][0]*x + regr.coef_[0][1]*x + regr.intercept_[0],'-r')\r\n",
        "plt.xlabel(\"Engine size\")\r\n",
        "plt.ylabel(\"Emission\")\r\n",
        "plt.show()"
      ],
      "execution_count": 122,
      "outputs": [
        {
          "output_type": "display_data",
          "data": {
            "image/png": "[encoded data removed]",
            "text/plain": [
              "<Figure size 432x288 with 1 Axes>"
            ]
          },
          "metadata": {
            "tags": [],
            "needs_background": "light"
          }
        }
      ]
    },
    {
      "cell_type": "markdown",
      "metadata": {
        "id": "OFKWdYjFM21j"
      },
      "source": [
        "Pembuatan Prediksi"
      ]
    },
    {
      "cell_type": "code",
      "metadata": {
        "colab": {
          "base_uri": "https://localhost:8080/"
        },
        "id": "cDtz3FPwM4Y8",
        "outputId": "09b16318-48f6-4234-ea5d-1a0964f5b106"
      },
      "source": [
        "y_hat= regr.predict(test[['enginesize','horsepower']])\r\n",
        "x = np.asanyarray(test[['enginesize','horsepower']])\r\n",
        "y = np.asanyarray(test[['price']])\r\n",
        "print(\"Residual sum of squares: %.2f\"\r\n",
        "      % np.mean((y_hat - y) ** 2))\r\n",
        "\r\n",
        "# Skor varian yang dijelaskan: 1 adalah prediksi sempurna\r\n",
        "print('Variance score: %.2f' % regr.score(x, y))"
      ],
      "execution_count": 123,
      "outputs": [
        {
          "output_type": "stream",
          "text": [
            "Residual sum of squares: 13179264.83\n",
            "Variance score: 0.74\n"
          ],
          "name": "stdout"
        }
      ]
    },
    {
      "cell_type": "markdown",
      "metadata": {
        "id": "prYqM2ymNTY7"
      },
      "source": [
        "Membuat prediksi mobil dari kumpulan data"
      ]
    },
    {
      "cell_type": "code",
      "metadata": {
        "colab": {
          "base_uri": "https://localhost:8080/"
        },
        "id": "oYHRrtpaNU7z",
        "outputId": "d6957c0a-c211-423e-e3d0-8ccc8b49a174"
      },
      "source": [
        "test_car_features = [200,200]\r\n",
        "test_car_price = (regr.coef_[0][0]*test_car_features[0] + regr.coef_[0][1]*test_car_features[1] + regr.intercept_[0])\r\n",
        "print(\"Estimasi harga kendaraan: \",int(test_car_price),\"$\")"
      ],
      "execution_count": 124,
      "outputs": [
        {
          "output_type": "stream",
          "text": [
            "Estimasi harga kendaraan:  27376 $\n"
          ],
          "name": "stdout"
        }
      ]
    }
  ]
}